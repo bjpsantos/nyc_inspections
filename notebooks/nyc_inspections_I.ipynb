{
 "cells": [
  {
   "cell_type": "markdown",
   "id": "6b8dab1b",
   "metadata": {},
   "source": [
    "# NYC Inspections - part I\n",
    "\n",
    "Initial Data Analysis\n",
    "\n",
    "The Analysis performed in this notebook resulted in the class `Preprocess` available in `src/preprocess.py` that cleans up and aggregates the relevant information of the nyc inspections dataset"
   ]
  },
  {
   "cell_type": "code",
   "execution_count": 1,
   "id": "acee4557",
   "metadata": {},
   "outputs": [],
   "source": [
    "import pandas as pd\n",
    "\n",
    "pd.set_option('display.max_columns', None)"
   ]
  },
  {
   "cell_type": "code",
   "execution_count": 2,
   "id": "72f0457c",
   "metadata": {},
   "outputs": [
    {
     "data": {
      "text/plain": [
       "(100000, 27)"
      ]
     },
     "execution_count": 2,
     "metadata": {},
     "output_type": "execute_result"
    }
   ],
   "source": [
    "df = pd.read_csv('../data/43nn-pn8j.csv')\n",
    "df.shape"
   ]
  },
  {
   "cell_type": "code",
   "execution_count": 3,
   "id": "e84126ba",
   "metadata": {},
   "outputs": [
    {
     "data": {
      "text/plain": [
       "np.int64(2)"
      ]
     },
     "execution_count": 3,
     "metadata": {},
     "output_type": "execute_result"
    }
   ],
   "source": [
    "df.duplicated().sum()"
   ]
  },
  {
   "cell_type": "code",
   "execution_count": 4,
   "id": "b65fb728",
   "metadata": {},
   "outputs": [],
   "source": [
    "df.drop_duplicates(inplace=True)"
   ]
  },
  {
   "cell_type": "code",
   "execution_count": 5,
   "id": "204b1798",
   "metadata": {},
   "outputs": [],
   "source": [
    "# convert date columns to datetime\n",
    "date_columns = ['inspection_date', 'record_date', 'grade_date'] \n",
    "for col in date_columns:\n",
    "    df[col] = pd.to_datetime(df[col], errors='coerce')"
   ]
  },
  {
   "cell_type": "markdown",
   "id": "c0c4c82f",
   "metadata": {},
   "source": [
    "\"Records are also included for each restaurant that has applied for a permit but has not yet been inspected and for inspections resulting in no violations. Establishments with inspection date of 1/1/1900 are new establishments that have not yet received an inspection.\" (from: https://data.cityofnewyork.us/Health/DOHMH-New-York-City-Restaurant-Inspection-Results/43nn-pn8j/about_data)\n",
    "\n",
    "These entries can be safely removed."
   ]
  },
  {
   "cell_type": "code",
   "execution_count": 6,
   "id": "1cabb9fb",
   "metadata": {},
   "outputs": [
    {
     "name": "stdout",
     "output_type": "stream",
     "text": [
      "Initial sample size: (99998, 27)\n",
      "Sample size after removing 1/1/1900 entries: (98293, 27)\n"
     ]
    }
   ],
   "source": [
    "print(f\"Initial sample size: {df.shape}\")\n",
    "df = df[df['inspection_date'] != '1900-01-01 00:00:00']\n",
    "print(f\"Sample size after removing 1/1/1900 entries: {df.shape}\")"
   ]
  },
  {
   "cell_type": "code",
   "execution_count": 7,
   "id": "81ad234d",
   "metadata": {},
   "outputs": [
    {
     "name": "stdout",
     "output_type": "stream",
     "text": [
      "Inspection dates between: 2015-09-24 00:00:00 and 2025-07-16 00:00:00\n"
     ]
    }
   ],
   "source": [
    "print(f\"Inspection dates between: {df['inspection_date'].min()} and {df['inspection_date'].max()}\")"
   ]
  },
  {
   "cell_type": "markdown",
   "id": "0d314cbc",
   "metadata": {},
   "source": [
    "\"Letter grading inspections were put on pause beginning March 17, 2020, until July 19, 2021, due to the COVID-19 public health emergency. Modified restaurant inspections occurred during this time.\" [source:Word file from the `/documentation` folder]"
   ]
  },
  {
   "cell_type": "code",
   "execution_count": 8,
   "id": "ceb86c42",
   "metadata": {},
   "outputs": [
    {
     "name": "stdout",
     "output_type": "stream",
     "text": [
      "9 inspections took place during COVID-19 (March 17, 2020 - July 19, 2021)\n",
      "Sample size after removing COVID-19 inspections: (98284, 27)\n"
     ]
    }
   ],
   "source": [
    "# during covid most inspections were suspended\n",
    "print(f\"{df[(df['inspection_date']>= '2020-03-17') & (df['inspection_date'] < '2021-07-19')].sort_values(by='inspection_date').shape[0]} inspections took place during COVID-19 (March 17, 2020 - July 19, 2021)\")\n",
    "\n",
    "# remove these inspections from the dataset\n",
    "df = df[(df['inspection_date']< '2020-03-17') | (df['inspection_date'] >= '2021-07-19')]\n",
    "print(f\"Sample size after removing COVID-19 inspections: {df.shape}\")"
   ]
  },
  {
   "cell_type": "markdown",
   "id": "2f165873",
   "metadata": {},
   "source": [
    "Assumption -> **risk category inferred from Grade**\n",
    "\n",
    "\"Grade associated with the inspection;\n",
    " * N = Not Yet Graded\n",
    " * A = Grade A\n",
    " * B = Grade B\n",
    " * C = Grade C\n",
    " * Z = Grade Pending\n",
    " * P= Grade Pending issued on re-opening following an initial inspection that resulted in a closure\n",
    "\"\n",
    "from: https://data.cityofnewyork.us/Health/DOHMH-New-York-City-Restaurant-Inspection-Results/43nn-pn8j/about_data\n",
    "\n",
    "\n",
    "Risk Category:\n",
    "* Low --> Grade A\n",
    "* Medium --> Grade B\n",
    "* High --> Grade C"
   ]
  },
  {
   "cell_type": "code",
   "execution_count": 9,
   "id": "397d111e",
   "metadata": {},
   "outputs": [
    {
     "name": "stdout",
     "output_type": "stream",
     "text": [
      "\n",
      "camis: int64\n",
      "Null values: 0\n",
      "Unique values in camis:\n",
      " - Number of unique values: 24566\n",
      " - First 5 unique values: [50078218 41510846 50137711 50040703 50056175]\n",
      "\n",
      "dba: object\n",
      "Null values: 0\n",
      "Unique values in dba:\n",
      " - Number of unique values: 19650\n",
      " - First 5 unique values: ['MEAL MART' '218 RESTAURANT' 'HONGDAE' 'BEBE FRITAY' 'SUNDAY IN BROOKLYN']\n",
      "\n",
      "boro: object\n",
      "Null values: 0\n",
      "Unique values in boro:\n",
      " - Number of unique values: 5\n",
      " - First 5 unique values: ['Queens' 'Manhattan' 'Brooklyn' 'Staten Island' 'Bronx']\n",
      "\n",
      "building: object\n",
      "Null values: 184\n",
      "Unique values in building:\n",
      " - Number of unique values: 7086\n",
      " - First 5 unique values: ['7210' '218220' '14909' '826' '348']\n",
      "\n",
      "street: object\n",
      "Null values: 0\n",
      "Unique values in street:\n",
      " - Number of unique values: 2215\n",
      " - First 5 unique values: ['MAIN ST' 'GRAND STREET' '41ST AVE' 'ROGERS AVENUE' 'WYTHE AVENUE']\n",
      "\n",
      "zipcode: float64\n",
      "Null values: 960\n",
      "Unique values in zipcode:\n",
      " - Number of unique values: 218\n",
      " - First 5 unique values: [11367.    nan 11355. 11226. 11249.]\n",
      "\n",
      "phone: object\n",
      "Null values: 4\n",
      "Unique values in phone:\n",
      " - Number of unique values: 22785\n",
      " - First 5 unique values: ['7182613300' '2122268039' '9179080368' '7186761636' '3472226722']\n",
      "\n",
      "cuisine_description: object\n",
      "Null values: 0\n",
      "Unique values in cuisine_description:\n",
      " - Number of unique values: 87\n",
      " - First 5 unique values: ['Jewish/Kosher' 'Chinese' 'Korean' 'Creole' 'American']\n",
      "\n",
      "inspection_date: datetime64[ns]\n",
      "Null values: 0\n",
      "Unique values in inspection_date:\n",
      " - Number of unique values: 1603\n",
      " - First 5 unique values: <DatetimeArray>\n",
      "['2025-05-21 00:00:00', '2025-03-06 00:00:00', '2024-02-29 00:00:00',\n",
      " '2023-10-18 00:00:00', '2022-02-04 00:00:00']\n",
      "Length: 5, dtype: datetime64[ns]\n",
      "\n",
      "action: object\n",
      "Null values: 0\n",
      "Unique values in action:\n",
      " - Number of unique values: 5\n",
      " - First 5 unique values: ['Violations were cited in the following area(s).'\n",
      " 'No violations were recorded at the time of this inspection.'\n",
      " 'Establishment re-closed by DOHMH.' 'Establishment re-opened by DOHMH.'\n",
      " 'Establishment Closed by DOHMH. Violations were cited in the following area(s) and those requiring immediate action were addressed.']\n",
      "\n",
      "violation_code: object\n",
      "Null values: 790\n",
      "Unique values in violation_code:\n",
      " - Number of unique values: 142\n",
      " - First 5 unique values: ['09B' '04K' '02B' '10J' nan]\n",
      "\n",
      "violation_description: object\n",
      "Null values: 790\n",
      "Unique values in violation_description:\n",
      " - Number of unique values: 213\n",
      " - First 5 unique values: ['Thawing procedure improper.'\n",
      " \"Evidence of rats or live rats in establishment's food or non-food areas.\"\n",
      " 'Hot TCS food item not held at or above 140 °F.'\n",
      " 'Hot food item not held at or above 140º F.' 'Hand wash sign not posted']\n",
      "\n",
      "critical_flag: object\n",
      "Null values: 0\n",
      "Unique values in critical_flag:\n",
      " - Number of unique values: 3\n",
      " - First 5 unique values: ['Not Critical' 'Critical' 'Not Applicable']\n",
      "\n",
      "score: float64\n",
      "Null values: 4327\n",
      "Unique values in score:\n",
      " - Number of unique values: 138\n",
      " - First 5 unique values: [27. 31. 22. 13.  6.]\n",
      "\n",
      "grade: object\n",
      "Null values: 49945\n",
      "Unique values in grade:\n",
      " - Number of unique values: 6\n",
      " - First 5 unique values: [nan 'B' 'A' 'C' 'N']\n",
      "\n",
      "grade_date: datetime64[ns]\n",
      "Null values: 52807\n",
      "Unique values in grade_date:\n",
      " - Number of unique values: 1394\n",
      " - First 5 unique values: <DatetimeArray>\n",
      "[                'NaT', '2023-10-18 00:00:00', '2022-02-04 00:00:00',\n",
      " '2020-02-24 00:00:00', '2024-11-25 00:00:00']\n",
      "Length: 5, dtype: datetime64[ns]\n",
      "\n",
      "record_date: datetime64[ns]\n",
      "Null values: 0\n",
      "Unique values in record_date:\n",
      " - Number of unique values: 2\n",
      " - First 5 unique values: <DatetimeArray>\n",
      "['2025-07-17 06:00:13', '2025-07-17 06:00:15']\n",
      "Length: 2, dtype: datetime64[ns]\n",
      "\n",
      "inspection_type: object\n",
      "Null values: 0\n",
      "Unique values in inspection_type:\n",
      " - Number of unique values: 30\n",
      " - First 5 unique values: ['Cycle Inspection / Initial Inspection'\n",
      " 'Pre-permit (Operational) / Initial Inspection'\n",
      " 'Cycle Inspection / Re-inspection'\n",
      " 'Administrative Miscellaneous / Initial Inspection'\n",
      " 'Cycle Inspection / Reopening Inspection']\n",
      "\n",
      "latitude: float64\n",
      "Null values: 132\n",
      "Unique values in latitude:\n",
      " - Number of unique values: 21092\n",
      " - First 5 unique values: [40.7263461   0.         40.76216384 40.65042268 40.71416368]\n",
      "\n",
      "longitude: float64\n",
      "Null values: 132\n",
      "Unique values in longitude:\n",
      " - Number of unique values: 21092\n",
      " - First 5 unique values: [-73.82166908   0.         -73.81551909 -73.95245548 -73.96520828]\n",
      "\n",
      "community_board: float64\n",
      "Null values: 1244\n",
      "Unique values in community_board:\n",
      " - Number of unique values: 68\n",
      " - First 5 unique values: [408.  nan 407. 317. 301.]\n",
      "\n",
      "council_district: float64\n",
      "Null values: 1233\n",
      "Unique values in council_district:\n",
      " - Number of unique values: 51\n",
      " - First 5 unique values: [24. nan 20. 40. 33.]\n",
      "\n",
      "census_tract: float64\n",
      "Null values: 1233\n",
      "Unique values in census_tract:\n",
      " - Number of unique values: 1167\n",
      " - First 5 unique values: [ 77902.     nan 116700.  79400.  55100.]\n",
      "\n",
      "bin: float64\n",
      "Null values: 1701\n",
      "Unique values in bin:\n",
      " - Number of unique values: 18447\n",
      " - First 5 unique values: [4143394.      nan 4431711. 3117243. 3321284.]\n",
      "\n",
      "bbl: float64\n",
      "Null values: 284\n",
      "Unique values in bbl:\n",
      " - Number of unique values: 18165\n",
      " - First 5 unique values: [4.06621000e+09 1.00000000e+00 4.05029750e+09 3.05104010e+09\n",
      " 3.02415003e+09]\n",
      "\n",
      "nta: object\n",
      "Null values: 1244\n",
      "Unique values in nta:\n",
      " - Number of unique values: 193\n",
      " - First 5 unique values: ['QN37' nan 'QN51' 'BK95' 'BK73']\n",
      "\n",
      "location_point1: float64\n",
      "Null values: 98284\n",
      "Unique values in location_point1:\n",
      " - Number of unique values: 0\n",
      " - First 5 unique values: [nan]\n"
     ]
    }
   ],
   "source": [
    "# Inspect the columns\n",
    "for col in df.columns:\n",
    "    print(f\"\\n{col}: {df[col].dtype}\")\n",
    "    print(f\"Null values: {df[col].isnull().sum()}\")\n",
    "    print(f\"Unique values in {col}:\")\n",
    "    print(\" - Number of unique values:\", df[col].nunique())\n",
    "    print(\" - First 5 unique values:\", df[col].unique()[:5])"
   ]
  },
  {
   "cell_type": "code",
   "execution_count": 10,
   "id": "6241a059",
   "metadata": {},
   "outputs": [
    {
     "data": {
      "text/html": [
       "<div>\n",
       "<style scoped>\n",
       "    .dataframe tbody tr th:only-of-type {\n",
       "        vertical-align: middle;\n",
       "    }\n",
       "\n",
       "    .dataframe tbody tr th {\n",
       "        vertical-align: top;\n",
       "    }\n",
       "\n",
       "    .dataframe thead th {\n",
       "        text-align: right;\n",
       "    }\n",
       "</style>\n",
       "<table border=\"1\" class=\"dataframe\">\n",
       "  <thead>\n",
       "    <tr style=\"text-align: right;\">\n",
       "      <th></th>\n",
       "      <th>inspection_type</th>\n",
       "      <th>A</th>\n",
       "      <th>B</th>\n",
       "      <th>C</th>\n",
       "      <th>N</th>\n",
       "      <th>P</th>\n",
       "      <th>Z</th>\n",
       "      <th>total</th>\n",
       "    </tr>\n",
       "  </thead>\n",
       "  <tbody>\n",
       "    <tr>\n",
       "      <th>0</th>\n",
       "      <td>Administrative Miscellaneous / Initial Inspection</td>\n",
       "      <td>NaN</td>\n",
       "      <td>NaN</td>\n",
       "      <td>NaN</td>\n",
       "      <td>4.0</td>\n",
       "      <td>NaN</td>\n",
       "      <td>NaN</td>\n",
       "      <td>2963</td>\n",
       "    </tr>\n",
       "    <tr>\n",
       "      <th>1</th>\n",
       "      <td>Administrative Miscellaneous / Re-inspection</td>\n",
       "      <td>NaN</td>\n",
       "      <td>NaN</td>\n",
       "      <td>1.0</td>\n",
       "      <td>NaN</td>\n",
       "      <td>NaN</td>\n",
       "      <td>NaN</td>\n",
       "      <td>622</td>\n",
       "    </tr>\n",
       "    <tr>\n",
       "      <th>2</th>\n",
       "      <td>Cycle Inspection / Initial Inspection</td>\n",
       "      <td>18923.0</td>\n",
       "      <td>1.0</td>\n",
       "      <td>2.0</td>\n",
       "      <td>562.0</td>\n",
       "      <td>NaN</td>\n",
       "      <td>NaN</td>\n",
       "      <td>53104</td>\n",
       "    </tr>\n",
       "    <tr>\n",
       "      <th>3</th>\n",
       "      <td>Cycle Inspection / Re-inspection</td>\n",
       "      <td>9047.0</td>\n",
       "      <td>4995.0</td>\n",
       "      <td>3203.0</td>\n",
       "      <td>10.0</td>\n",
       "      <td>NaN</td>\n",
       "      <td>1426.0</td>\n",
       "      <td>19452</td>\n",
       "    </tr>\n",
       "    <tr>\n",
       "      <th>4</th>\n",
       "      <td>Cycle Inspection / Reopening Inspection</td>\n",
       "      <td>3.0</td>\n",
       "      <td>1.0</td>\n",
       "      <td>104.0</td>\n",
       "      <td>1.0</td>\n",
       "      <td>258.0</td>\n",
       "      <td>127.0</td>\n",
       "      <td>967</td>\n",
       "    </tr>\n",
       "    <tr>\n",
       "      <th>5</th>\n",
       "      <td>Inter-Agency Task Force / Initial Inspection</td>\n",
       "      <td>NaN</td>\n",
       "      <td>NaN</td>\n",
       "      <td>NaN</td>\n",
       "      <td>8.0</td>\n",
       "      <td>NaN</td>\n",
       "      <td>NaN</td>\n",
       "      <td>292</td>\n",
       "    </tr>\n",
       "    <tr>\n",
       "      <th>6</th>\n",
       "      <td>Pre-permit (Non-operational) / Compliance Insp...</td>\n",
       "      <td>NaN</td>\n",
       "      <td>NaN</td>\n",
       "      <td>NaN</td>\n",
       "      <td>5.0</td>\n",
       "      <td>NaN</td>\n",
       "      <td>NaN</td>\n",
       "      <td>15</td>\n",
       "    </tr>\n",
       "    <tr>\n",
       "      <th>7</th>\n",
       "      <td>Pre-permit (Non-operational) / Initial Inspection</td>\n",
       "      <td>NaN</td>\n",
       "      <td>NaN</td>\n",
       "      <td>NaN</td>\n",
       "      <td>381.0</td>\n",
       "      <td>NaN</td>\n",
       "      <td>NaN</td>\n",
       "      <td>1237</td>\n",
       "    </tr>\n",
       "    <tr>\n",
       "      <th>8</th>\n",
       "      <td>Pre-permit (Non-operational) / Re-inspection</td>\n",
       "      <td>NaN</td>\n",
       "      <td>NaN</td>\n",
       "      <td>NaN</td>\n",
       "      <td>56.0</td>\n",
       "      <td>NaN</td>\n",
       "      <td>NaN</td>\n",
       "      <td>119</td>\n",
       "    </tr>\n",
       "    <tr>\n",
       "      <th>9</th>\n",
       "      <td>Pre-permit (Non-operational) / Second Complian...</td>\n",
       "      <td>NaN</td>\n",
       "      <td>NaN</td>\n",
       "      <td>NaN</td>\n",
       "      <td>3.0</td>\n",
       "      <td>NaN</td>\n",
       "      <td>NaN</td>\n",
       "      <td>5</td>\n",
       "    </tr>\n",
       "    <tr>\n",
       "      <th>10</th>\n",
       "      <td>Pre-permit (Operational) / Initial Inspection</td>\n",
       "      <td>3629.0</td>\n",
       "      <td>3.0</td>\n",
       "      <td>5.0</td>\n",
       "      <td>1811.0</td>\n",
       "      <td>NaN</td>\n",
       "      <td>NaN</td>\n",
       "      <td>13585</td>\n",
       "    </tr>\n",
       "    <tr>\n",
       "      <th>11</th>\n",
       "      <td>Pre-permit (Operational) / Re-inspection</td>\n",
       "      <td>1599.0</td>\n",
       "      <td>942.0</td>\n",
       "      <td>653.0</td>\n",
       "      <td>13.0</td>\n",
       "      <td>NaN</td>\n",
       "      <td>449.0</td>\n",
       "      <td>3769</td>\n",
       "    </tr>\n",
       "    <tr>\n",
       "      <th>12</th>\n",
       "      <td>Pre-permit (Operational) / Reopening Inspection</td>\n",
       "      <td>NaN</td>\n",
       "      <td>NaN</td>\n",
       "      <td>25.0</td>\n",
       "      <td>7.0</td>\n",
       "      <td>58.0</td>\n",
       "      <td>21.0</td>\n",
       "      <td>261</td>\n",
       "    </tr>\n",
       "    <tr>\n",
       "      <th>13</th>\n",
       "      <td>Smoke-Free Air Act / Initial Inspection</td>\n",
       "      <td>NaN</td>\n",
       "      <td>NaN</td>\n",
       "      <td>NaN</td>\n",
       "      <td>3.0</td>\n",
       "      <td>NaN</td>\n",
       "      <td>NaN</td>\n",
       "      <td>214</td>\n",
       "    </tr>\n",
       "  </tbody>\n",
       "</table>\n",
       "</div>"
      ],
      "text/plain": [
       "                                      inspection_type        A       B  \\\n",
       "0   Administrative Miscellaneous / Initial Inspection      NaN     NaN   \n",
       "1        Administrative Miscellaneous / Re-inspection      NaN     NaN   \n",
       "2               Cycle Inspection / Initial Inspection  18923.0     1.0   \n",
       "3                    Cycle Inspection / Re-inspection   9047.0  4995.0   \n",
       "4             Cycle Inspection / Reopening Inspection      3.0     1.0   \n",
       "5        Inter-Agency Task Force / Initial Inspection      NaN     NaN   \n",
       "6   Pre-permit (Non-operational) / Compliance Insp...      NaN     NaN   \n",
       "7   Pre-permit (Non-operational) / Initial Inspection      NaN     NaN   \n",
       "8        Pre-permit (Non-operational) / Re-inspection      NaN     NaN   \n",
       "9   Pre-permit (Non-operational) / Second Complian...      NaN     NaN   \n",
       "10      Pre-permit (Operational) / Initial Inspection   3629.0     3.0   \n",
       "11           Pre-permit (Operational) / Re-inspection   1599.0   942.0   \n",
       "12    Pre-permit (Operational) / Reopening Inspection      NaN     NaN   \n",
       "13            Smoke-Free Air Act / Initial Inspection      NaN     NaN   \n",
       "\n",
       "         C       N      P       Z  total  \n",
       "0      NaN     4.0    NaN     NaN   2963  \n",
       "1      1.0     NaN    NaN     NaN    622  \n",
       "2      2.0   562.0    NaN     NaN  53104  \n",
       "3   3203.0    10.0    NaN  1426.0  19452  \n",
       "4    104.0     1.0  258.0   127.0    967  \n",
       "5      NaN     8.0    NaN     NaN    292  \n",
       "6      NaN     5.0    NaN     NaN     15  \n",
       "7      NaN   381.0    NaN     NaN   1237  \n",
       "8      NaN    56.0    NaN     NaN    119  \n",
       "9      NaN     3.0    NaN     NaN      5  \n",
       "10     5.0  1811.0    NaN     NaN  13585  \n",
       "11   653.0    13.0    NaN   449.0   3769  \n",
       "12    25.0     7.0   58.0    21.0    261  \n",
       "13     NaN     3.0    NaN     NaN    214  "
      ]
     },
     "execution_count": 10,
     "metadata": {},
     "output_type": "execute_result"
    }
   ],
   "source": [
    "df.groupby('inspection_type')['grade'].value_counts().unstack().join(\n",
    "    df.groupby('inspection_type').size().rename('total')).reset_index()"
   ]
  },
  {
   "cell_type": "markdown",
   "id": "69fd84f1",
   "metadata": {},
   "source": [
    "**Gradable Inspections**\n",
    "\n",
    "Not all types of inspections award a grade (this is in accordance with the documentation)\n",
    "\n",
    "Inspections that do not award a grade (A, B or C), are not relevant for the task and so, can be removed.\n",
    "\n",
    "\"Identifying Gradable Inspections\n",
    "\n",
    "Not every inspection is a “gradable” inspection. Gradable inspections can be identified when the following statements are true: \n",
    "INSPECTION TYPE in (Cycle Inspection/Initial Inspection, Cycle Inspection/Re-Inspection, Pre-Permit (Operational)/Initial Inspection, Pre-Permit (Operational)/Re-Inspection)\n",
    "ACTION in (Violations were cited in the following area(s), No violations were recorded at the time of this inspection, Establishment Closed by DOHMH)\n",
    "INSPECTION DATE >= July 27, 2010\" [source:Word file from the `/documentation` folder]\n",
    "\n",
    "Note: 'Establishment Closed by DOHMH' is actually  'Establishment Closed by DOHMH. Violations were cited in the following area(s) and those requiring immediate action were addressed.' in the dataset"
   ]
  },
  {
   "cell_type": "code",
   "execution_count": 11,
   "id": "828a2b8f",
   "metadata": {},
   "outputs": [
    {
     "data": {
      "text/plain": [
       "(89910, 27)"
      ]
     },
     "execution_count": 11,
     "metadata": {},
     "output_type": "execute_result"
    }
   ],
   "source": [
    "# gradable inspection  \n",
    "df_gradable_inspection = df[(df['inspection_type'].isin(['Cycle Inspection / Initial Inspection', \n",
    "                                                          'Cycle Inspection / Re-inspection', \n",
    "                                                          'Pre-permit (Operational) / Initial Inspection', \n",
    "                                                          'Pre-permit (Operational) / Re-inspection',\n",
    "                                                          ]))\n",
    "                                & (df['action'].isin(['Violations were cited in the following area(s).', \n",
    "                                                          'No violations were recorded at the time of this inspection.', \n",
    "                                                          ])\n",
    "                                                          | df['action'].str.contains('Establishment Closed by DOHMH', case=False)\n",
    "                                )\n",
    "                                & (df['inspection_date'] >= '2010-07-27')].copy()\n",
    "df_gradable_inspection.shape"
   ]
  },
  {
   "cell_type": "code",
   "execution_count": 12,
   "id": "40d18ef1",
   "metadata": {},
   "outputs": [
    {
     "data": {
      "text/plain": [
       "action\n",
       "Violations were cited in the following area(s).                                                                                       86773\n",
       "Establishment Closed by DOHMH. Violations were cited in the following area(s) and those requiring immediate action were addressed.     2959\n",
       "No violations were recorded at the time of this inspection.                                                                             178\n",
       "Name: count, dtype: int64"
      ]
     },
     "execution_count": 12,
     "metadata": {},
     "output_type": "execute_result"
    }
   ],
   "source": [
    "df_gradable_inspection['action'].value_counts()"
   ]
  },
  {
   "cell_type": "code",
   "execution_count": 13,
   "id": "afeeb9f6",
   "metadata": {},
   "outputs": [
    {
     "data": {
      "text/plain": [
       "grade\n",
       "A    33198\n",
       "B     5941\n",
       "C     3863\n",
       "N     2396\n",
       "Z     1875\n",
       "Name: count, dtype: int64"
      ]
     },
     "execution_count": 13,
     "metadata": {},
     "output_type": "execute_result"
    }
   ],
   "source": [
    "df_gradable_inspection['grade'].value_counts()"
   ]
  },
  {
   "cell_type": "code",
   "execution_count": 14,
   "id": "6bec34c9",
   "metadata": {},
   "outputs": [
    {
     "data": {
      "text/plain": [
       "np.int64(42637)"
      ]
     },
     "execution_count": 14,
     "metadata": {},
     "output_type": "execute_result"
    }
   ],
   "source": [
    "df_gradable_inspection['grade'].isna().sum()"
   ]
  },
  {
   "cell_type": "code",
   "execution_count": 15,
   "id": "5a6abd1c",
   "metadata": {},
   "outputs": [
    {
     "data": {
      "text/plain": [
       "np.int64(0)"
      ]
     },
     "execution_count": 15,
     "metadata": {},
     "output_type": "execute_result"
    }
   ],
   "source": [
    "df_gradable_inspection['score'].isna().sum()"
   ]
  },
  {
   "cell_type": "markdown",
   "id": "4ec3ae48",
   "metadata": {},
   "source": [
    "In the `df_gradable_inspection` dataframe, grades can be (A, B, C, N, Z or NaN).\n",
    "The `score`column is always filled in.\n",
    "\n",
    "- For entries with grades N or Z, a grade between A, B or C will be computed from the `score`.\n",
    "- For entries with NaN, a grade between A, B or C will be computed from the `score`\n",
    "- For entries with A, B or C, the grade will be checked agains the `score`:\n",
    "    * if they are aligned, the grade is kept\n",
    "    * if they are not aligned, the new correct grade is computed from the `score`"
   ]
  },
  {
   "cell_type": "code",
   "execution_count": 16,
   "id": "c09f4e30",
   "metadata": {},
   "outputs": [],
   "source": [
    "df_gradable_inspection.loc[:,'computed_grade'] = df_gradable_inspection['score'].apply(\n",
    "    lambda x: 'A' if x <= 13 else ('B' if x <= 27 else 'C'))"
   ]
  },
  {
   "cell_type": "code",
   "execution_count": 17,
   "id": "34ea5c9f",
   "metadata": {},
   "outputs": [
    {
     "name": "stdout",
     "output_type": "stream",
     "text": [
      "There are 63 entries where the grade is not aligned with the score.\n"
     ]
    }
   ],
   "source": [
    "mask = df_gradable_inspection['grade'].isin(['A', 'B', 'C']) & (df_gradable_inspection['computed_grade'] != df_gradable_inspection['grade'])\n",
    "\n",
    "print(f\"There are {df_gradable_inspection.loc[mask].shape[0]} entries where the grade is not aligned with the score.\")\n",
    "#df_gradable_inspection.loc[mask]"
   ]
  },
  {
   "cell_type": "code",
   "execution_count": 18,
   "id": "c349bca7",
   "metadata": {},
   "outputs": [
    {
     "data": {
      "text/plain": [
       "array([nan, 'B', 'A', 'C', 'N', 'Z', 'P'], dtype=object)"
      ]
     },
     "execution_count": 18,
     "metadata": {},
     "output_type": "execute_result"
    }
   ],
   "source": [
    "df['grade'].unique()"
   ]
  },
  {
   "cell_type": "code",
   "execution_count": 19,
   "id": "06345cea",
   "metadata": {},
   "outputs": [
    {
     "data": {
      "text/plain": [
       "computed_grade\n",
       "A    35975\n",
       "C    29879\n",
       "B    24056\n",
       "Name: count, dtype: int64"
      ]
     },
     "execution_count": 19,
     "metadata": {},
     "output_type": "execute_result"
    }
   ],
   "source": [
    "df_gradable_inspection['computed_grade'].value_counts()"
   ]
  },
  {
   "cell_type": "code",
   "execution_count": 20,
   "id": "27606415",
   "metadata": {},
   "outputs": [
    {
     "data": {
      "text/plain": [
       "(89910, 28)"
      ]
     },
     "execution_count": 20,
     "metadata": {},
     "output_type": "execute_result"
    }
   ],
   "source": [
    "df_gradable_inspection.shape"
   ]
  },
  {
   "cell_type": "code",
   "execution_count": 21,
   "id": "324ed1c6",
   "metadata": {},
   "outputs": [],
   "source": [
    "\n",
    "assert df_gradable_inspection.groupby(['camis', 'inspection_date'])[['inspection_type', 'action', 'grade', 'violation_code']].nunique().reset_index()['inspection_type'].max() == 1, \"There are multiple inspection types  for a single camis/inspection_date in df_gradable_inspection\"\n",
    "\n",
    "assert df_gradable_inspection.groupby(['camis', 'inspection_date'])[['inspection_type', 'action', 'grade', 'violation_code']].nunique().reset_index()['action'].max() == 1, \"There are multiple actions for a single camis/inspection_date in df_gradable_inspection\"\n",
    "\n",
    "assert df_gradable_inspection.groupby(['camis', 'inspection_date'])[['inspection_type', 'action', 'grade', 'violation_code']].nunique().reset_index()['grade'].max() == 1, \"There are multiple grades for a single camis/inspection_date in df_gradable_inspection\"\n"
   ]
  },
  {
   "cell_type": "code",
   "execution_count": 22,
   "id": "c4bb582a",
   "metadata": {},
   "outputs": [
    {
     "data": {
      "text/plain": [
       "np.int64(177)"
      ]
     },
     "execution_count": 22,
     "metadata": {},
     "output_type": "execute_result"
    }
   ],
   "source": [
    "df_gradable_inspection['violation_code'].isna().sum()"
   ]
  },
  {
   "cell_type": "code",
   "execution_count": 23,
   "id": "a6b84a85",
   "metadata": {},
   "outputs": [
    {
     "data": {
      "text/plain": [
       "np.int64(0)"
      ]
     },
     "execution_count": 23,
     "metadata": {},
     "output_type": "execute_result"
    }
   ],
   "source": [
    "df_gradable_inspection['boro'].isna().sum()"
   ]
  },
  {
   "cell_type": "code",
   "execution_count": 24,
   "id": "cf4c49e0",
   "metadata": {},
   "outputs": [
    {
     "data": {
      "text/plain": [
       "np.int64(1150)"
      ]
     },
     "execution_count": 24,
     "metadata": {},
     "output_type": "execute_result"
    }
   ],
   "source": [
    "df_gradable_inspection['council_district'].isna().sum()"
   ]
  },
  {
   "cell_type": "code",
   "execution_count": 25,
   "id": "59c7b51e",
   "metadata": {},
   "outputs": [
    {
     "data": {
      "text/plain": [
       "array(['09B', '04K', '02B', '10J', '04M', '04L', '09E', '06F', '10H',\n",
       "       '08A', nan, '06I', '10C', '09C', '05A', '10F', '10B', '02G', '05D',\n",
       "       '10G', '06C', '04J', '06D', '02H', '10A', '10E', '06E', '04A',\n",
       "       '09A', '04N', '06A', '08C', '05F', '03A', '04O', '04H', '28-06',\n",
       "       '04D', '04E', '05H', '10D', '03B', '08B', '05E', '28-05', '04F',\n",
       "       '04C', '02C', '02A', '05C', '02I', '06B', '03I', '10I', '04P',\n",
       "       '05B', '06G', '03C', '02F', '03F', '06H', '02D', '09D', '03E',\n",
       "       '28-07', '04B', '07A', '03D', '03G', '18-11', '04I'], dtype=object)"
      ]
     },
     "execution_count": 25,
     "metadata": {},
     "output_type": "execute_result"
    }
   ],
   "source": [
    "df_gradable_inspection['violation_code'].unique()"
   ]
  },
  {
   "cell_type": "code",
   "execution_count": 26,
   "id": "8db057aa",
   "metadata": {},
   "outputs": [
    {
     "data": {
      "text/plain": [
       "violation_code  violation_description                                                                                                                                                                                                                                                                                                                                                                                                                                                                                                                                                                                                                                                                                                                                                                                                                                                                                                                                                                   \n",
       "02A             Food not cooked to required minimum temperature.                                                                                                                                                                                                                                                                                                                                                                                                                                                                                                                                                                                                                                                                                                                                                                                                                                                                                                                                               6\n",
       "                Time/Temperature Control for Safety (TCS) food not cooked to required minimum internal temperature.   • Poultry, poultry parts, ground and comminuted poultry, all stuffing containing poultry, meats, fish or ratites to or above 165 °F for 15 seconds with no interruption of the cooking process   • Ground meat, and food containing ground and comminuted meat, to or above 158 °F for 15 seconds with no interruption of the cooking process, except per individual customer request  • Pork, any food containing pork to or above 150 °F for 15 seconds  • Mechanically tenderized or injected meats to or above 155 °F.  • Whole meat roasts and beef steak to or above required temperature and time except per individual customer request  • Raw animal foods cooked in microwave to or above165 °F, covered, rotated or stirred   • All other foods to or above 140 °F for 15 seconds; shell eggs to or above 145 °F for 15 seconds except per individual customer request.      41\n",
       "                Time/Temperature Control for Safety (TCS) food not cooked to required minimum internal temperature. • Poultry, poultry parts, ground and comminuted poultry, all stuffing containing poultry, meats, fish or ratites to or above 165 °F for 15 seconds with no interruption of the cooking process  • Ground meat, and food containing ground and comminuted meat, to or above 158 °F for 15 seconds with no interruption of the cooking process, except per individual customer request• Pork, any food containing pork to or above 150 °F for 15 seconds• Mechanically tenderized or injected meats to or above 155 °F.• Whole meat roasts and beef steak to or above required temperature and time except per individual customer request• Raw animal foods cooked in microwave to or above165 °F, covered, rotated or stirred  • All other foods to or above 140 °F for 15 seconds; shell eggs to or above 145 °F for 15 seconds except per individual customer request.                  21\n",
       "02B             Hot TCS food item not held at or above 140 °F.                                                                                                                                                                                                                                                                                                                                                                                                                                                                                                                                                                                                                                                                                                                                                                                                                                                                                                                                              4622\n",
       "                Hot food item not held at or above 140º F.                                                                                                                                                                                                                                                                                                                                                                                                                                                                                                                                                                                                                                                                                                                                                                                                                                                                                                                                                   634\n",
       "                                                                                                                                                                                                                                                                                                                                                                                                                                                                                                                                                                                                                                                                                                                                                                                                                                                                                                                                                                                                            ... \n",
       "28-05           Food adulterated or misbranded.  Adulterated or misbranded food possessed, being manufactured, produced, packed, sold, offered for sale, delivered or given away                                                                                                                                                                                                                                                                                                                                                                                                                                                                                                                                                                                                                                                                                                                                                                                                                              26\n",
       "                Food adulterated or misbranded. Adulterated or misbranded food possessed, being manufactured, produced, packed, sold, offered for sale, delivered or given away                                                                                                                                                                                                                                                                                                                                                                                                                                                                                                                                                                                                                                                                                                                                                                                                                              107\n",
       "28-06           Contract with a pest management professional not in place.  Record of extermination activities not kept on premises.                                                                                                                                                                                                                                                                                                                                                                                                                                                                                                                                                                                                                                                                                                                                                                                                                                                                          70\n",
       "                Contract with a pest management professional not in place. Record of extermination activities not kept on premises.                                                                                                                                                                                                                                                                                                                                                                                                                                                                                                                                                                                                                                                                                                                                                                                                                                                                          422\n",
       "28-07           Unapproved outdoor, street or sidewalk cooking.                                                                                                                                                                                                                                                                                                                                                                                                                                                                                                                                                                                                                                                                                                                                                                                                                                                                                                                                                4\n",
       "Length: 142, dtype: int64"
      ]
     },
     "execution_count": 26,
     "metadata": {},
     "output_type": "execute_result"
    }
   ],
   "source": [
    "df_gradable_inspection.groupby(['violation_code', 'violation_description']).size()"
   ]
  },
  {
   "cell_type": "code",
   "execution_count": 27,
   "id": "4137cff2",
   "metadata": {},
   "outputs": [
    {
     "data": {
      "text/plain": [
       "(53189, 10)"
      ]
     },
     "execution_count": 27,
     "metadata": {},
     "output_type": "execute_result"
    }
   ],
   "source": [
    "# Group and aggregate\n",
    "df_agg = df_gradable_inspection.groupby(['camis', 'inspection_date']).agg({\n",
    "    'inspection_type': lambda x: x.unique()[0],\n",
    "    'computed_grade': lambda x: x.unique()[0],\n",
    "    'action': lambda x: x.unique()[0],\n",
    "    'boro': 'first',\n",
    "    'latitude': 'first',\n",
    "    'longitude': 'first',\n",
    "    'critical_flag': lambda x:  list(x),\n",
    "    'violation_code': lambda x: list(x.dropna())        #an empty list here implies no violations\n",
    "}).reset_index().sort_values(by=['camis', 'inspection_date'])\n",
    "\n",
    "df_agg.shape"
   ]
  },
  {
   "cell_type": "code",
   "execution_count": 28,
   "id": "9e87bf37",
   "metadata": {},
   "outputs": [
    {
     "data": {
      "text/html": [
       "<div>\n",
       "<style scoped>\n",
       "    .dataframe tbody tr th:only-of-type {\n",
       "        vertical-align: middle;\n",
       "    }\n",
       "\n",
       "    .dataframe tbody tr th {\n",
       "        vertical-align: top;\n",
       "    }\n",
       "\n",
       "    .dataframe thead th {\n",
       "        text-align: right;\n",
       "    }\n",
       "</style>\n",
       "<table border=\"1\" class=\"dataframe\">\n",
       "  <thead>\n",
       "    <tr style=\"text-align: right;\">\n",
       "      <th></th>\n",
       "      <th>camis</th>\n",
       "      <th>inspection_date</th>\n",
       "      <th>inspection_type</th>\n",
       "      <th>computed_grade</th>\n",
       "      <th>action</th>\n",
       "      <th>boro</th>\n",
       "      <th>latitude</th>\n",
       "      <th>longitude</th>\n",
       "      <th>critical_flag</th>\n",
       "      <th>violation_code</th>\n",
       "    </tr>\n",
       "  </thead>\n",
       "  <tbody>\n",
       "    <tr>\n",
       "      <th>0</th>\n",
       "      <td>30075445</td>\n",
       "      <td>2023-01-31</td>\n",
       "      <td>Cycle Inspection / Initial Inspection</td>\n",
       "      <td>B</td>\n",
       "      <td>Establishment Closed by DOHMH. Violations were...</td>\n",
       "      <td>Bronx</td>\n",
       "      <td>40.848231</td>\n",
       "      <td>-73.855972</td>\n",
       "      <td>[Critical]</td>\n",
       "      <td>[06D]</td>\n",
       "    </tr>\n",
       "    <tr>\n",
       "      <th>1</th>\n",
       "      <td>30075445</td>\n",
       "      <td>2023-08-22</td>\n",
       "      <td>Cycle Inspection / Re-inspection</td>\n",
       "      <td>A</td>\n",
       "      <td>Violations were cited in the following area(s).</td>\n",
       "      <td>Bronx</td>\n",
       "      <td>40.848231</td>\n",
       "      <td>-73.855972</td>\n",
       "      <td>[Not Critical]</td>\n",
       "      <td>[08A]</td>\n",
       "    </tr>\n",
       "    <tr>\n",
       "      <th>2</th>\n",
       "      <td>30075445</td>\n",
       "      <td>2024-11-08</td>\n",
       "      <td>Cycle Inspection / Initial Inspection</td>\n",
       "      <td>A</td>\n",
       "      <td>Violations were cited in the following area(s).</td>\n",
       "      <td>Bronx</td>\n",
       "      <td>40.848231</td>\n",
       "      <td>-73.855972</td>\n",
       "      <td>[Not Critical]</td>\n",
       "      <td>[10F]</td>\n",
       "    </tr>\n",
       "    <tr>\n",
       "      <th>3</th>\n",
       "      <td>30191841</td>\n",
       "      <td>2023-04-23</td>\n",
       "      <td>Cycle Inspection / Initial Inspection</td>\n",
       "      <td>A</td>\n",
       "      <td>Violations were cited in the following area(s).</td>\n",
       "      <td>Manhattan</td>\n",
       "      <td>40.767326</td>\n",
       "      <td>-73.984310</td>\n",
       "      <td>[Critical]</td>\n",
       "      <td>[06E]</td>\n",
       "    </tr>\n",
       "    <tr>\n",
       "      <th>4</th>\n",
       "      <td>30191841</td>\n",
       "      <td>2024-11-20</td>\n",
       "      <td>Cycle Inspection / Initial Inspection</td>\n",
       "      <td>B</td>\n",
       "      <td>Violations were cited in the following area(s).</td>\n",
       "      <td>Manhattan</td>\n",
       "      <td>40.767326</td>\n",
       "      <td>-73.984310</td>\n",
       "      <td>[Not Critical, Not Critical]</td>\n",
       "      <td>[10F, 08A]</td>\n",
       "    </tr>\n",
       "  </tbody>\n",
       "</table>\n",
       "</div>"
      ],
      "text/plain": [
       "      camis inspection_date                        inspection_type  \\\n",
       "0  30075445      2023-01-31  Cycle Inspection / Initial Inspection   \n",
       "1  30075445      2023-08-22       Cycle Inspection / Re-inspection   \n",
       "2  30075445      2024-11-08  Cycle Inspection / Initial Inspection   \n",
       "3  30191841      2023-04-23  Cycle Inspection / Initial Inspection   \n",
       "4  30191841      2024-11-20  Cycle Inspection / Initial Inspection   \n",
       "\n",
       "  computed_grade                                             action  \\\n",
       "0              B  Establishment Closed by DOHMH. Violations were...   \n",
       "1              A    Violations were cited in the following area(s).   \n",
       "2              A    Violations were cited in the following area(s).   \n",
       "3              A    Violations were cited in the following area(s).   \n",
       "4              B    Violations were cited in the following area(s).   \n",
       "\n",
       "        boro   latitude  longitude                 critical_flag  \\\n",
       "0      Bronx  40.848231 -73.855972                    [Critical]   \n",
       "1      Bronx  40.848231 -73.855972                [Not Critical]   \n",
       "2      Bronx  40.848231 -73.855972                [Not Critical]   \n",
       "3  Manhattan  40.767326 -73.984310                    [Critical]   \n",
       "4  Manhattan  40.767326 -73.984310  [Not Critical, Not Critical]   \n",
       "\n",
       "  violation_code  \n",
       "0          [06D]  \n",
       "1          [08A]  \n",
       "2          [10F]  \n",
       "3          [06E]  \n",
       "4     [10F, 08A]  "
      ]
     },
     "execution_count": 28,
     "metadata": {},
     "output_type": "execute_result"
    }
   ],
   "source": [
    "df_agg.head()"
   ]
  },
  {
   "cell_type": "code",
   "execution_count": 29,
   "id": "1466a9a7",
   "metadata": {},
   "outputs": [
    {
     "data": {
      "text/plain": [
       "(np.int64(124), np.int64(124))"
      ]
     },
     "execution_count": 29,
     "metadata": {},
     "output_type": "execute_result"
    }
   ],
   "source": [
    "df_gradable_inspection['latitude'].isna().sum(), df_gradable_inspection['longitude'].isna().sum()"
   ]
  },
  {
   "cell_type": "code",
   "execution_count": 30,
   "id": "2874bf93",
   "metadata": {},
   "outputs": [
    {
     "data": {
      "text/plain": [
       "(53189, 10)"
      ]
     },
     "execution_count": 30,
     "metadata": {},
     "output_type": "execute_result"
    }
   ],
   "source": [
    "df_agg.shape"
   ]
  }
 ],
 "metadata": {
  "kernelspec": {
   "display_name": "nyc-inspections",
   "language": "python",
   "name": "python3"
  },
  "language_info": {
   "codemirror_mode": {
    "name": "ipython",
    "version": 3
   },
   "file_extension": ".py",
   "mimetype": "text/x-python",
   "name": "python",
   "nbconvert_exporter": "python",
   "pygments_lexer": "ipython3",
   "version": "3.13.5"
  }
 },
 "nbformat": 4,
 "nbformat_minor": 5
}
